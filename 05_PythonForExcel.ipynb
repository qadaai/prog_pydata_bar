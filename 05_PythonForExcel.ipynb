{
 "cells": [
  {
   "cell_type": "markdown",
   "id": "010cf2f6-ff2a-47f4-8a4a-2cb5e252c5c9",
   "metadata": {
    "jp-MarkdownHeadingCollapsed": true,
    "tags": []
   },
   "source": [
    "## Data, Analytics &amp; AI \n",
    "# <font color=indigo> Using Python &amp; Excel Together </font>\n",
    "\n",
    "\n",
    "---\n",
    "\n",
    "<small>QA Ltd. owns the copyright and other intellectual property rights of this material and asserts its moral rights as the author. All rights reserved.</small>"
   ]
  },
  {
   "cell_type": "markdown",
   "id": "f94fdce5-1f73-422c-946c-89b3836b23e2",
   "metadata": {},
   "source": [
    "## Contents\n",
    "1. Library Overview\n",
    "2. Opening existing excel files\n",
    "3. Create new excel files\n",
    "4. Edit existing excel files\n",
    "5. Simple CLI for excel\n",
    "6. Automate excel file processing\n",
    "7. Python vs. Excel\n",
    "8. Direct Excel manipulation with OpenPyXl"
   ]
  },
  {
   "cell_type": "markdown",
   "id": "4f177104-a7d8-4f9c-a31d-5597aa5ec94a",
   "metadata": {},
   "source": [
    "## Prerequisites"
   ]
  },
  {
   "cell_type": "markdown",
   "id": "d6961539-7c44-4aa2-912c-016e9f9cd591",
   "metadata": {},
   "source": [
    "### Libraries"
   ]
  },
  {
   "cell_type": "markdown",
   "id": "e16e6f2c-3ad7-42f3-9f3c-2bf702a34c67",
   "metadata": {},
   "source": [
    "We are now familiar with Pandas, Python's counterpart to Excel."
   ]
  },
  {
   "cell_type": "code",
   "execution_count": 33,
   "id": "60c0d25d-4e93-4adf-a39d-94817d4077d1",
   "metadata": {},
   "outputs": [],
   "source": [
    "import pandas as pd"
   ]
  },
  {
   "cell_type": "markdown",
   "id": "38503a04-991d-4952-bec7-0e9bf544046f",
   "metadata": {},
   "source": [
    "### openpyxl vs. xlwings"
   ]
  },
  {
   "cell_type": "markdown",
   "id": "67dcc7ca-a15d-43af-9d7c-d09b4a30509d",
   "metadata": {},
   "source": [
    "`openpyxl` is a Python library that provides methods to **read** from, **write** to, run **arithmetic operations** in, & **plot graphs** in *Excel files* using Python.\n",
    "\n",
    "It works directly on excel \".xlsx\" files, which are essentially a zip-file containing multiple XML files that are formatted according to Microsoft's OOXML specification.\n",
    "\n",
    "This means you can actually work with Excel files without having Excel on your computer. This is a fast way of working with xlsx files & is especially useful if you want to pull data from a large number of them. \n",
    "\n",
    "It has its drawbacks when formulae are implemented & the results need to be read - the file has to have been opened using excel for values to be computed.\n",
    "\n",
    "`xlwings` makes use of the fact that Microsoft Excel can be started and controlled by an external program if it uses the right code. This means that python script with the right commands can fully control an Excel Application (open excel files, query data from cells, write data to cells, save excel files, etc.). When `xlwings` runs, you will actually see the Microsoft Excel application start up. Then, `xlwings` tells Excel what to do and Excel does it.\n",
    "\n",
    "This is slower when many files need to be iterated over, but it is useful if you want Excel to do some calculation. It also means that any live-updated data will actually be in its most recent state when it is used."
   ]
  },
  {
   "cell_type": "markdown",
   "id": "33037ece-2973-4a9b-8de4-fa53677bd02b",
   "metadata": {},
   "source": [
    "They are unlikely to be installed by default. By running the below code, you will install it in your current conda environment.\n",
    "\n",
    "*Aside: `!` is a metacommand which tells Jupyter to enter the code following it into the command line* "
   ]
  },
  {
   "cell_type": "code",
   "execution_count": 2,
   "id": "c6de6c86-e990-4efb-8cd2-1b05ce071bbe",
   "metadata": {
    "tags": []
   },
   "outputs": [],
   "source": [
    "# Needed if openpyxl not installed\n",
    "# !pip install openpyxl\n",
    "# !pip install xlwings"
   ]
  },
  {
   "cell_type": "markdown",
   "id": "2f075cfa-4b6f-4115-9cc1-d278fc3f3274",
   "metadata": {},
   "source": [
    "### Data"
   ]
  },
  {
   "cell_type": "markdown",
   "id": "6bd56ed4-bcf3-4904-be6c-8693a4bc44ae",
   "metadata": {},
   "source": [
    "The data file we are going to be using is called `rates.xlsx` & should be in the `courseware\\data` folder.\n",
    "\n",
    "Rates contains 1 year of exchange rates between GBP and 3 other currencies: EUR, USD, and ROM."
   ]
  },
  {
   "cell_type": "markdown",
   "id": "a543ad7c",
   "metadata": {},
   "source": [
    "## Reading `.xlsx` files into pandas DataFrames"
   ]
  },
  {
   "cell_type": "markdown",
   "id": "f9110490-46a9-4c97-85b9-3bde0c94624c",
   "metadata": {},
   "source": [
    "### Overview of read_excel()"
   ]
  },
  {
   "cell_type": "markdown",
   "id": "4ebb2472",
   "metadata": {
    "jp-MarkdownHeadingCollapsed": true,
    "tags": []
   },
   "source": [
    "Initially, we'll  use `pandas` to read Excel files. Then we'll look at manual interaction with `openpyxl` later.\n",
    "\n",
    "Pandas has a function called `read_excel` which uses `openpyxl` to open an `xlsx` file.\n",
    "\n",
    "The only argument that we *have* to specify when calling the function is `io`. This is a reference to the file you wish to open, commonly given as a filepath.\n",
    "\n",
    "We'll be using filepaths, but we could also use an existing Excel file object.\n",
    "\n",
    "Some of the key optional arguments we can specify include:\n",
    "* sheet_name: allows you to select the sheet(s) from an Excel file you want to load\n",
    "* header: which sheet row contains column headers of the table\n",
    "* names: set column names manually\n",
    "* usecols: select specific columns to load\n",
    "* na_values: specify which data values should be represented as missing (NaN)\n",
    "\n",
    "The function returns a dictionary of dataframes if multiple sheets are being loaded, or a single dataframe if just one sheet.\n",
    "\n",
    "*Reference: https://pandas.pydata.org/pandas-docs/stable/reference/api/pandas.read_excel.html*"
   ]
  },
  {
   "cell_type": "markdown",
   "id": "711c9c50-696b-493f-901f-64d9afb9d2f1",
   "metadata": {},
   "source": [
    "### Load main sheet"
   ]
  },
  {
   "cell_type": "markdown",
   "id": "71b5f04c-fa3a-44cf-8563-1c381061aab2",
   "metadata": {},
   "source": [
    "A simple one liner is enough to load in the main sheet of the `rates.xlsx` file."
   ]
  },
  {
   "cell_type": "code",
   "execution_count": 3,
   "id": "7d394b27",
   "metadata": {},
   "outputs": [
    {
     "name": "stdout",
     "output_type": "stream",
     "text": [
      "data structure that we have read in: <class 'pandas.core.frame.DataFrame'>\n",
      "df has columns: Index(['Date', 'EUR', 'USD', 'RON'], dtype='object')\n"
     ]
    }
   ],
   "source": [
    "df_rates = pd.read_excel('datasets/rates.xlsx')\n",
    "print(f\"data structure that we have read in: {type(df_rates)}\")\n",
    "print(f\"df has columns: {df_rates.columns}\")"
   ]
  },
  {
   "cell_type": "code",
   "execution_count": 4,
   "id": "6a69d5ef-658e-453e-8715-4f2f6029edef",
   "metadata": {},
   "outputs": [
    {
     "data": {
      "text/html": [
       "<div>\n",
       "<style scoped>\n",
       "    .dataframe tbody tr th:only-of-type {\n",
       "        vertical-align: middle;\n",
       "    }\n",
       "\n",
       "    .dataframe tbody tr th {\n",
       "        vertical-align: top;\n",
       "    }\n",
       "\n",
       "    .dataframe thead th {\n",
       "        text-align: right;\n",
       "    }\n",
       "</style>\n",
       "<table border=\"1\" class=\"dataframe\">\n",
       "  <thead>\n",
       "    <tr style=\"text-align: right;\">\n",
       "      <th></th>\n",
       "      <th>Date</th>\n",
       "      <th>EUR</th>\n",
       "      <th>USD</th>\n",
       "      <th>RON</th>\n",
       "    </tr>\n",
       "  </thead>\n",
       "  <tbody>\n",
       "    <tr>\n",
       "      <th>0</th>\n",
       "      <td>2022-05-02</td>\n",
       "      <td>1.1932</td>\n",
       "      <td>1.2557</td>\n",
       "      <td>5.9036</td>\n",
       "    </tr>\n",
       "    <tr>\n",
       "      <th>1</th>\n",
       "      <td>2022-05-01</td>\n",
       "      <td>1.1918</td>\n",
       "      <td>1.2561</td>\n",
       "      <td>5.8968</td>\n",
       "    </tr>\n",
       "    <tr>\n",
       "      <th>2</th>\n",
       "      <td>2022-04-30</td>\n",
       "      <td>1.1918</td>\n",
       "      <td>1.2561</td>\n",
       "      <td>5.8968</td>\n",
       "    </tr>\n",
       "    <tr>\n",
       "      <th>3</th>\n",
       "      <td>2022-04-29</td>\n",
       "      <td>1.1918</td>\n",
       "      <td>1.2561</td>\n",
       "      <td>5.8968</td>\n",
       "    </tr>\n",
       "    <tr>\n",
       "      <th>4</th>\n",
       "      <td>2022-04-28</td>\n",
       "      <td>1.1855</td>\n",
       "      <td>1.2430</td>\n",
       "      <td>5.8659</td>\n",
       "    </tr>\n",
       "    <tr>\n",
       "      <th>...</th>\n",
       "      <td>...</td>\n",
       "      <td>...</td>\n",
       "      <td>...</td>\n",
       "      <td>...</td>\n",
       "    </tr>\n",
       "    <tr>\n",
       "      <th>361</th>\n",
       "      <td>2021-05-06</td>\n",
       "      <td>1.1533</td>\n",
       "      <td>1.3909</td>\n",
       "      <td>5.6816</td>\n",
       "    </tr>\n",
       "    <tr>\n",
       "      <th>362</th>\n",
       "      <td>2021-05-05</td>\n",
       "      <td>1.1591</td>\n",
       "      <td>1.3915</td>\n",
       "      <td>5.7110</td>\n",
       "    </tr>\n",
       "    <tr>\n",
       "      <th>363</th>\n",
       "      <td>2021-05-04</td>\n",
       "      <td>1.1525</td>\n",
       "      <td>1.3854</td>\n",
       "      <td>5.6788</td>\n",
       "    </tr>\n",
       "    <tr>\n",
       "      <th>364</th>\n",
       "      <td>2021-05-03</td>\n",
       "      <td>1.1516</td>\n",
       "      <td>1.3870</td>\n",
       "      <td>5.6737</td>\n",
       "    </tr>\n",
       "    <tr>\n",
       "      <th>365</th>\n",
       "      <td>2021-05-02</td>\n",
       "      <td>1.1512</td>\n",
       "      <td>1.3909</td>\n",
       "      <td>5.6739</td>\n",
       "    </tr>\n",
       "  </tbody>\n",
       "</table>\n",
       "<p>366 rows × 4 columns</p>\n",
       "</div>"
      ],
      "text/plain": [
       "          Date     EUR     USD     RON\n",
       "0   2022-05-02  1.1932  1.2557  5.9036\n",
       "1   2022-05-01  1.1918  1.2561  5.8968\n",
       "2   2022-04-30  1.1918  1.2561  5.8968\n",
       "3   2022-04-29  1.1918  1.2561  5.8968\n",
       "4   2022-04-28  1.1855  1.2430  5.8659\n",
       "..         ...     ...     ...     ...\n",
       "361 2021-05-06  1.1533  1.3909  5.6816\n",
       "362 2021-05-05  1.1591  1.3915  5.7110\n",
       "363 2021-05-04  1.1525  1.3854  5.6788\n",
       "364 2021-05-03  1.1516  1.3870  5.6737\n",
       "365 2021-05-02  1.1512  1.3909  5.6739\n",
       "\n",
       "[366 rows x 4 columns]"
      ]
     },
     "execution_count": 4,
     "metadata": {},
     "output_type": "execute_result"
    }
   ],
   "source": [
    "df_rates"
   ]
  },
  {
   "cell_type": "markdown",
   "id": "4ba95570-c05b-453b-bdcd-a46fa2c28ec9",
   "metadata": {},
   "source": [
    "### Load all sheets"
   ]
  },
  {
   "cell_type": "markdown",
   "id": "d4321f57-c507-4dc9-bf81-064bd4243e5e",
   "metadata": {},
   "source": [
    "In order to load all sheets of an Excel file, we simply set `sheet_name=None`. If there are multiple sheets, the result of the `read_excel` function is a dictionary, each key the name of the sheet, each value the Dataframe containing the data of that sheet."
   ]
  },
  {
   "cell_type": "code",
   "execution_count": 7,
   "id": "3a7c8509",
   "metadata": {},
   "outputs": [
    {
     "name": "stdout",
     "output_type": "stream",
     "text": [
      "data structure that we have read in:  <class 'dict'>\n",
      "dictionary has keys:  dict_keys(['excelrates', 'eur', 'usd', 'ron'])\n"
     ]
    }
   ],
   "source": [
    "dict_rates = pd.read_excel('datasets/rates.xlsx', sheet_name = None)\n",
    "print(\"data structure that we have read in: \", type(dict_rates))\n",
    "print(\"dictionary has keys: \", dict_rates.keys())"
   ]
  },
  {
   "cell_type": "markdown",
   "id": "7180fefe-9bc9-4828-b23d-4d1bf79ccc5e",
   "metadata": {},
   "source": [
    "We can extract each sheet by giving its name to the dictionary object."
   ]
  },
  {
   "cell_type": "code",
   "execution_count": 8,
   "id": "444d0cbd-ae60-42a7-9d66-6eeb870e3633",
   "metadata": {},
   "outputs": [
    {
     "data": {
      "text/html": [
       "<div>\n",
       "<style scoped>\n",
       "    .dataframe tbody tr th:only-of-type {\n",
       "        vertical-align: middle;\n",
       "    }\n",
       "\n",
       "    .dataframe tbody tr th {\n",
       "        vertical-align: top;\n",
       "    }\n",
       "\n",
       "    .dataframe thead th {\n",
       "        text-align: right;\n",
       "    }\n",
       "</style>\n",
       "<table border=\"1\" class=\"dataframe\">\n",
       "  <thead>\n",
       "    <tr style=\"text-align: right;\">\n",
       "      <th></th>\n",
       "      <th>Date</th>\n",
       "      <th>EUR</th>\n",
       "    </tr>\n",
       "  </thead>\n",
       "  <tbody>\n",
       "    <tr>\n",
       "      <th>0</th>\n",
       "      <td>2022-05-02</td>\n",
       "      <td>1.1932</td>\n",
       "    </tr>\n",
       "    <tr>\n",
       "      <th>1</th>\n",
       "      <td>2022-05-01</td>\n",
       "      <td>1.1918</td>\n",
       "    </tr>\n",
       "    <tr>\n",
       "      <th>2</th>\n",
       "      <td>2022-04-30</td>\n",
       "      <td>1.1918</td>\n",
       "    </tr>\n",
       "    <tr>\n",
       "      <th>3</th>\n",
       "      <td>2022-04-29</td>\n",
       "      <td>1.1918</td>\n",
       "    </tr>\n",
       "    <tr>\n",
       "      <th>4</th>\n",
       "      <td>2022-04-28</td>\n",
       "      <td>1.1855</td>\n",
       "    </tr>\n",
       "    <tr>\n",
       "      <th>...</th>\n",
       "      <td>...</td>\n",
       "      <td>...</td>\n",
       "    </tr>\n",
       "    <tr>\n",
       "      <th>361</th>\n",
       "      <td>2021-05-06</td>\n",
       "      <td>1.1533</td>\n",
       "    </tr>\n",
       "    <tr>\n",
       "      <th>362</th>\n",
       "      <td>2021-05-05</td>\n",
       "      <td>1.1591</td>\n",
       "    </tr>\n",
       "    <tr>\n",
       "      <th>363</th>\n",
       "      <td>2021-05-04</td>\n",
       "      <td>1.1525</td>\n",
       "    </tr>\n",
       "    <tr>\n",
       "      <th>364</th>\n",
       "      <td>2021-05-03</td>\n",
       "      <td>1.1516</td>\n",
       "    </tr>\n",
       "    <tr>\n",
       "      <th>365</th>\n",
       "      <td>2021-05-02</td>\n",
       "      <td>1.1512</td>\n",
       "    </tr>\n",
       "  </tbody>\n",
       "</table>\n",
       "<p>366 rows × 2 columns</p>\n",
       "</div>"
      ],
      "text/plain": [
       "          Date     EUR\n",
       "0   2022-05-02  1.1932\n",
       "1   2022-05-01  1.1918\n",
       "2   2022-04-30  1.1918\n",
       "3   2022-04-29  1.1918\n",
       "4   2022-04-28  1.1855\n",
       "..         ...     ...\n",
       "361 2021-05-06  1.1533\n",
       "362 2021-05-05  1.1591\n",
       "363 2021-05-04  1.1525\n",
       "364 2021-05-03  1.1516\n",
       "365 2021-05-02  1.1512\n",
       "\n",
       "[366 rows x 2 columns]"
      ]
     },
     "execution_count": 8,
     "metadata": {},
     "output_type": "execute_result"
    }
   ],
   "source": [
    "excelrates = dict_rates[\"excelrates\"]\n",
    "eur = dict_rates[\"eur\"]\n",
    "usd = dict_rates[\"usd\"]\n",
    "ron = dict_rates[\"ron\"]\n",
    "\n",
    "eur # let's see what have we created"
   ]
  },
  {
   "cell_type": "markdown",
   "id": "3112203e",
   "metadata": {},
   "source": [
    "We can read in each sheet individually by specifying the sheet names. Note the mixed use of a numeric index & the explicit naming of the sheet."
   ]
  },
  {
   "cell_type": "code",
   "execution_count": 10,
   "id": "1ed55b63",
   "metadata": {},
   "outputs": [
    {
     "data": {
      "text/html": [
       "<div>\n",
       "<style scoped>\n",
       "    .dataframe tbody tr th:only-of-type {\n",
       "        vertical-align: middle;\n",
       "    }\n",
       "\n",
       "    .dataframe tbody tr th {\n",
       "        vertical-align: top;\n",
       "    }\n",
       "\n",
       "    .dataframe thead th {\n",
       "        text-align: right;\n",
       "    }\n",
       "</style>\n",
       "<table border=\"1\" class=\"dataframe\">\n",
       "  <thead>\n",
       "    <tr style=\"text-align: right;\">\n",
       "      <th></th>\n",
       "      <th>Date</th>\n",
       "      <th>EUR</th>\n",
       "    </tr>\n",
       "  </thead>\n",
       "  <tbody>\n",
       "    <tr>\n",
       "      <th>0</th>\n",
       "      <td>2022-05-02</td>\n",
       "      <td>1.1932</td>\n",
       "    </tr>\n",
       "    <tr>\n",
       "      <th>1</th>\n",
       "      <td>2022-05-01</td>\n",
       "      <td>1.1918</td>\n",
       "    </tr>\n",
       "    <tr>\n",
       "      <th>2</th>\n",
       "      <td>2022-04-30</td>\n",
       "      <td>1.1918</td>\n",
       "    </tr>\n",
       "    <tr>\n",
       "      <th>3</th>\n",
       "      <td>2022-04-29</td>\n",
       "      <td>1.1918</td>\n",
       "    </tr>\n",
       "    <tr>\n",
       "      <th>4</th>\n",
       "      <td>2022-04-28</td>\n",
       "      <td>1.1855</td>\n",
       "    </tr>\n",
       "    <tr>\n",
       "      <th>...</th>\n",
       "      <td>...</td>\n",
       "      <td>...</td>\n",
       "    </tr>\n",
       "    <tr>\n",
       "      <th>361</th>\n",
       "      <td>2021-05-06</td>\n",
       "      <td>1.1533</td>\n",
       "    </tr>\n",
       "    <tr>\n",
       "      <th>362</th>\n",
       "      <td>2021-05-05</td>\n",
       "      <td>1.1591</td>\n",
       "    </tr>\n",
       "    <tr>\n",
       "      <th>363</th>\n",
       "      <td>2021-05-04</td>\n",
       "      <td>1.1525</td>\n",
       "    </tr>\n",
       "    <tr>\n",
       "      <th>364</th>\n",
       "      <td>2021-05-03</td>\n",
       "      <td>1.1516</td>\n",
       "    </tr>\n",
       "    <tr>\n",
       "      <th>365</th>\n",
       "      <td>2021-05-02</td>\n",
       "      <td>1.1512</td>\n",
       "    </tr>\n",
       "  </tbody>\n",
       "</table>\n",
       "<p>366 rows × 2 columns</p>\n",
       "</div>"
      ],
      "text/plain": [
       "          Date     EUR\n",
       "0   2022-05-02  1.1932\n",
       "1   2022-05-01  1.1918\n",
       "2   2022-04-30  1.1918\n",
       "3   2022-04-29  1.1918\n",
       "4   2022-04-28  1.1855\n",
       "..         ...     ...\n",
       "361 2021-05-06  1.1533\n",
       "362 2021-05-05  1.1591\n",
       "363 2021-05-04  1.1525\n",
       "364 2021-05-03  1.1516\n",
       "365 2021-05-02  1.1512\n",
       "\n",
       "[366 rows x 2 columns]"
      ]
     },
     "execution_count": 10,
     "metadata": {},
     "output_type": "execute_result"
    }
   ],
   "source": [
    "excelrates = pd.read_excel('datasets/rates.xlsx', sheet_name = 0)\n",
    "eur = pd.read_excel('datasets/rates.xlsx', sheet_name = 1)\n",
    "usd = pd.read_excel('datasets/rates.xlsx', sheet_name = 2)\n",
    "ron = pd.read_excel('datasets/rates.xlsx', sheet_name = \"ron\")\n",
    "\n",
    "eur # let's see what have we created"
   ]
  },
  {
   "cell_type": "markdown",
   "id": "38d4f206-a135-4dbd-864f-16a400c0e3cd",
   "metadata": {},
   "source": [
    "## Writing pandas DataFrames to Excel spreadsheets "
   ]
  },
  {
   "cell_type": "markdown",
   "id": "68914e8a-49c9-42bb-9970-6a34f1e64bdb",
   "metadata": {},
   "source": [
    "Similar to reading, we have a simple command to write back to an excel sheet. It gets trickier when writing multiple sheets & we will have to use iteration to get it done."
   ]
  },
  {
   "cell_type": "markdown",
   "id": "998de27d-f660-4f68-bdae-468ed9be6cda",
   "metadata": {},
   "source": [
    "### Write a single sheet"
   ]
  },
  {
   "cell_type": "markdown",
   "id": "1bfbadb4-4397-49ee-93ad-95ddb955e9a7",
   "metadata": {},
   "source": [
    "We'll start by writing a the df_rates dataframe to a single sheet."
   ]
  },
  {
   "cell_type": "code",
   "execution_count": 11,
   "id": "2a2441c0-f728-4295-8426-8786df189614",
   "metadata": {},
   "outputs": [
    {
     "data": {
      "text/html": [
       "<div>\n",
       "<style scoped>\n",
       "    .dataframe tbody tr th:only-of-type {\n",
       "        vertical-align: middle;\n",
       "    }\n",
       "\n",
       "    .dataframe tbody tr th {\n",
       "        vertical-align: top;\n",
       "    }\n",
       "\n",
       "    .dataframe thead th {\n",
       "        text-align: right;\n",
       "    }\n",
       "</style>\n",
       "<table border=\"1\" class=\"dataframe\">\n",
       "  <thead>\n",
       "    <tr style=\"text-align: right;\">\n",
       "      <th></th>\n",
       "      <th>Date</th>\n",
       "      <th>EUR</th>\n",
       "      <th>USD</th>\n",
       "      <th>RON</th>\n",
       "    </tr>\n",
       "  </thead>\n",
       "  <tbody>\n",
       "    <tr>\n",
       "      <th>0</th>\n",
       "      <td>2022-05-02</td>\n",
       "      <td>1.1932</td>\n",
       "      <td>1.2557</td>\n",
       "      <td>5.9036</td>\n",
       "    </tr>\n",
       "    <tr>\n",
       "      <th>1</th>\n",
       "      <td>2022-05-01</td>\n",
       "      <td>1.1918</td>\n",
       "      <td>1.2561</td>\n",
       "      <td>5.8968</td>\n",
       "    </tr>\n",
       "    <tr>\n",
       "      <th>2</th>\n",
       "      <td>2022-04-30</td>\n",
       "      <td>1.1918</td>\n",
       "      <td>1.2561</td>\n",
       "      <td>5.8968</td>\n",
       "    </tr>\n",
       "    <tr>\n",
       "      <th>3</th>\n",
       "      <td>2022-04-29</td>\n",
       "      <td>1.1918</td>\n",
       "      <td>1.2561</td>\n",
       "      <td>5.8968</td>\n",
       "    </tr>\n",
       "    <tr>\n",
       "      <th>4</th>\n",
       "      <td>2022-04-28</td>\n",
       "      <td>1.1855</td>\n",
       "      <td>1.2430</td>\n",
       "      <td>5.8659</td>\n",
       "    </tr>\n",
       "    <tr>\n",
       "      <th>...</th>\n",
       "      <td>...</td>\n",
       "      <td>...</td>\n",
       "      <td>...</td>\n",
       "      <td>...</td>\n",
       "    </tr>\n",
       "    <tr>\n",
       "      <th>361</th>\n",
       "      <td>2021-05-06</td>\n",
       "      <td>1.1533</td>\n",
       "      <td>1.3909</td>\n",
       "      <td>5.6816</td>\n",
       "    </tr>\n",
       "    <tr>\n",
       "      <th>362</th>\n",
       "      <td>2021-05-05</td>\n",
       "      <td>1.1591</td>\n",
       "      <td>1.3915</td>\n",
       "      <td>5.7110</td>\n",
       "    </tr>\n",
       "    <tr>\n",
       "      <th>363</th>\n",
       "      <td>2021-05-04</td>\n",
       "      <td>1.1525</td>\n",
       "      <td>1.3854</td>\n",
       "      <td>5.6788</td>\n",
       "    </tr>\n",
       "    <tr>\n",
       "      <th>364</th>\n",
       "      <td>2021-05-03</td>\n",
       "      <td>1.1516</td>\n",
       "      <td>1.3870</td>\n",
       "      <td>5.6737</td>\n",
       "    </tr>\n",
       "    <tr>\n",
       "      <th>365</th>\n",
       "      <td>2021-05-02</td>\n",
       "      <td>1.1512</td>\n",
       "      <td>1.3909</td>\n",
       "      <td>5.6739</td>\n",
       "    </tr>\n",
       "  </tbody>\n",
       "</table>\n",
       "<p>366 rows × 4 columns</p>\n",
       "</div>"
      ],
      "text/plain": [
       "          Date     EUR     USD     RON\n",
       "0   2022-05-02  1.1932  1.2557  5.9036\n",
       "1   2022-05-01  1.1918  1.2561  5.8968\n",
       "2   2022-04-30  1.1918  1.2561  5.8968\n",
       "3   2022-04-29  1.1918  1.2561  5.8968\n",
       "4   2022-04-28  1.1855  1.2430  5.8659\n",
       "..         ...     ...     ...     ...\n",
       "361 2021-05-06  1.1533  1.3909  5.6816\n",
       "362 2021-05-05  1.1591  1.3915  5.7110\n",
       "363 2021-05-04  1.1525  1.3854  5.6788\n",
       "364 2021-05-03  1.1516  1.3870  5.6737\n",
       "365 2021-05-02  1.1512  1.3909  5.6739\n",
       "\n",
       "[366 rows x 4 columns]"
      ]
     },
     "execution_count": 11,
     "metadata": {},
     "output_type": "execute_result"
    }
   ],
   "source": [
    "df_rates"
   ]
  },
  {
   "cell_type": "markdown",
   "id": "52a9434e-6ac3-4ccd-8a7f-2d8e9399cefe",
   "metadata": {},
   "source": [
    "`to_excel` will create an xlsx file if none exists & write the DataFrame to it. The `.xlsx` part is essential, otherwise pandas gets confused."
   ]
  },
  {
   "cell_type": "code",
   "execution_count": 12,
   "id": "68ac786a-b03c-46a4-ab97-40873592ce55",
   "metadata": {},
   "outputs": [],
   "source": [
    "df_rates.to_excel(\"new_rates.xlsx\")"
   ]
  },
  {
   "cell_type": "markdown",
   "id": "ca550d34-8b91-4160-925b-6f06d0589cb9",
   "metadata": {},
   "source": [
    "Now take a look at your file. It will be in the same place as your workbook. Without sheet names, none will be inferred. We name the sheet using `sheet_name`."
   ]
  },
  {
   "cell_type": "code",
   "execution_count": 13,
   "id": "718ced79-a331-419f-a81d-590eef737474",
   "metadata": {},
   "outputs": [],
   "source": [
    "df_rates.to_excel(\"new_rates.xlsx\",\n",
    "                 sheet_name=\"main\")"
   ]
  },
  {
   "cell_type": "markdown",
   "id": "5959fd43-ddc7-48dc-bb3d-50e650e1186a",
   "metadata": {},
   "source": [
    "### Writing multiple sheets"
   ]
  },
  {
   "cell_type": "markdown",
   "id": "4a1f1b24-6700-4c0f-99c1-dcd39af9bf9f",
   "metadata": {},
   "source": [
    "There isn't built in functionality for writing a dictionary to an excel file. We get around this by making a connection to the excel file & writing data to it several times. To do this, we make use of an ExcelWriter object.\n",
    "\n",
    "To demo this we're using the dict_rates dictionary."
   ]
  },
  {
   "cell_type": "code",
   "execution_count": 14,
   "id": "90aa49f7-4f00-435f-b5d6-70d0edaaea36",
   "metadata": {},
   "outputs": [],
   "source": [
    "with pd.ExcelWriter(\"many_rates.xlsx\") as excel_file:\n",
    "    for sheet, data in dict_rates.items():\n",
    "        data.to_excel(excel_file, sheet_name=sheet)"
   ]
  },
  {
   "cell_type": "markdown",
   "id": "9cb0353d-31d8-4864-a487-20dfeaa491f7",
   "metadata": {},
   "source": [
    "This logic could easily be abstracted into a function for reuse."
   ]
  },
  {
   "cell_type": "code",
   "execution_count": 15,
   "id": "d61294e6-f58a-468f-8e92-dc138afcc2ba",
   "metadata": {},
   "outputs": [],
   "source": [
    "def dict_to_excel(filename:str, dictonary:dict):\n",
    "    with pd.ExcelWriter(filename) as excel_file:\n",
    "        for sheet, data in dictionary.items():\n",
    "            data.to_excel(excel_file, sheet_name=sheet)"
   ]
  },
  {
   "cell_type": "markdown",
   "id": "be4fbca5-5cdd-415e-b9ce-cbda5982c450",
   "metadata": {},
   "source": [
    "## Edit Existing Excel Files"
   ]
  },
  {
   "cell_type": "markdown",
   "id": "6740f035-ae4e-4d2c-bdde-bcd9c0c1f95b",
   "metadata": {},
   "source": [
    "### Simple"
   ]
  },
  {
   "cell_type": "markdown",
   "id": "8c8bd206-14a9-4f66-ae17-8d29b081f653",
   "metadata": {},
   "source": [
    "Read in excel file to DataFrame"
   ]
  },
  {
   "cell_type": "code",
   "execution_count": 16,
   "id": "9b7f012d-130d-438c-b0a4-76a7f267d3fe",
   "metadata": {},
   "outputs": [],
   "source": [
    "df_rates = pd.read_excel('datasets/rates.xlsx',\n",
    "                         sheet_name=\"excelrates\")"
   ]
  },
  {
   "cell_type": "markdown",
   "id": "ffdb0a7f-6730-4c1e-a39c-d5c9c2bf1350",
   "metadata": {},
   "source": [
    "Insert new column, e.g. eur/gbp - ron/gbp differential"
   ]
  },
  {
   "cell_type": "code",
   "execution_count": 17,
   "id": "ad51bcc4-4981-42c5-9148-9c98a233afe3",
   "metadata": {},
   "outputs": [],
   "source": [
    "df_rates['eur_rom_diff'] = df_rates['EUR'] - df_rates['RON']"
   ]
  },
  {
   "cell_type": "markdown",
   "id": "ab2389e9-bfeb-44c8-8f08-76cb5e9d1b36",
   "metadata": {},
   "source": [
    "We've written to the file new_rates as it avoids corrupting the source sheet. This is just to make teaching easier."
   ]
  },
  {
   "cell_type": "code",
   "execution_count": 19,
   "id": "b4e0964a-0705-4231-bd42-d22e5387e5f0",
   "metadata": {},
   "outputs": [],
   "source": [
    "df_rates.to_excel('datasets/new_rates.xlsx',\n",
    "                  sheet_name=\"new_excelrates\")"
   ]
  },
  {
   "cell_type": "markdown",
   "id": "ca2e073c-b37b-4794-950e-a8489f4c5f81",
   "metadata": {},
   "source": [
    "## Simple CLI for sheet loading"
   ]
  },
  {
   "cell_type": "markdown",
   "id": "8b1121c4-fb6f-4802-9dc4-38306222a98b",
   "metadata": {},
   "source": [
    "We have written a small module called `excel_loader.py` which uses user prompts to load sheets from an excel workbook.\n",
    "\n",
    "To use it, we import the module & run the `get_sheet` function"
   ]
  },
  {
   "cell_type": "code",
   "execution_count": 23,
   "id": "2c01776b-bb31-4cdc-8578-1fbee4daeb85",
   "metadata": {},
   "outputs": [
    {
     "name": "stdin",
     "output_type": "stream",
     "text": [
      "\n",
      "Enter the name of the file you would like to read\n",
      "         datasets/new_rates\n",
      "\n",
      "Enter the sheet you want to load from the file\n",
      "         new_excelrates\n"
     ]
    }
   ],
   "source": [
    "import excel_loader\n",
    "\n",
    "df = excel_loader.get_sheet()"
   ]
  },
  {
   "cell_type": "code",
   "execution_count": 24,
   "id": "81c1607b-18b2-4983-b193-dff09d50edcf",
   "metadata": {},
   "outputs": [
    {
     "data": {
      "text/html": [
       "<div>\n",
       "<style scoped>\n",
       "    .dataframe tbody tr th:only-of-type {\n",
       "        vertical-align: middle;\n",
       "    }\n",
       "\n",
       "    .dataframe tbody tr th {\n",
       "        vertical-align: top;\n",
       "    }\n",
       "\n",
       "    .dataframe thead th {\n",
       "        text-align: right;\n",
       "    }\n",
       "</style>\n",
       "<table border=\"1\" class=\"dataframe\">\n",
       "  <thead>\n",
       "    <tr style=\"text-align: right;\">\n",
       "      <th></th>\n",
       "      <th>Unnamed: 0</th>\n",
       "      <th>Date</th>\n",
       "      <th>EUR</th>\n",
       "      <th>USD</th>\n",
       "      <th>RON</th>\n",
       "      <th>eur_rom_diff</th>\n",
       "    </tr>\n",
       "  </thead>\n",
       "  <tbody>\n",
       "    <tr>\n",
       "      <th>0</th>\n",
       "      <td>0</td>\n",
       "      <td>2022-05-02</td>\n",
       "      <td>1.1932</td>\n",
       "      <td>1.2557</td>\n",
       "      <td>5.9036</td>\n",
       "      <td>-4.7104</td>\n",
       "    </tr>\n",
       "    <tr>\n",
       "      <th>1</th>\n",
       "      <td>1</td>\n",
       "      <td>2022-05-01</td>\n",
       "      <td>1.1918</td>\n",
       "      <td>1.2561</td>\n",
       "      <td>5.8968</td>\n",
       "      <td>-4.7050</td>\n",
       "    </tr>\n",
       "    <tr>\n",
       "      <th>2</th>\n",
       "      <td>2</td>\n",
       "      <td>2022-04-30</td>\n",
       "      <td>1.1918</td>\n",
       "      <td>1.2561</td>\n",
       "      <td>5.8968</td>\n",
       "      <td>-4.7050</td>\n",
       "    </tr>\n",
       "    <tr>\n",
       "      <th>3</th>\n",
       "      <td>3</td>\n",
       "      <td>2022-04-29</td>\n",
       "      <td>1.1918</td>\n",
       "      <td>1.2561</td>\n",
       "      <td>5.8968</td>\n",
       "      <td>-4.7050</td>\n",
       "    </tr>\n",
       "    <tr>\n",
       "      <th>4</th>\n",
       "      <td>4</td>\n",
       "      <td>2022-04-28</td>\n",
       "      <td>1.1855</td>\n",
       "      <td>1.2430</td>\n",
       "      <td>5.8659</td>\n",
       "      <td>-4.6804</td>\n",
       "    </tr>\n",
       "    <tr>\n",
       "      <th>...</th>\n",
       "      <td>...</td>\n",
       "      <td>...</td>\n",
       "      <td>...</td>\n",
       "      <td>...</td>\n",
       "      <td>...</td>\n",
       "      <td>...</td>\n",
       "    </tr>\n",
       "    <tr>\n",
       "      <th>361</th>\n",
       "      <td>361</td>\n",
       "      <td>2021-05-06</td>\n",
       "      <td>1.1533</td>\n",
       "      <td>1.3909</td>\n",
       "      <td>5.6816</td>\n",
       "      <td>-4.5283</td>\n",
       "    </tr>\n",
       "    <tr>\n",
       "      <th>362</th>\n",
       "      <td>362</td>\n",
       "      <td>2021-05-05</td>\n",
       "      <td>1.1591</td>\n",
       "      <td>1.3915</td>\n",
       "      <td>5.7110</td>\n",
       "      <td>-4.5519</td>\n",
       "    </tr>\n",
       "    <tr>\n",
       "      <th>363</th>\n",
       "      <td>363</td>\n",
       "      <td>2021-05-04</td>\n",
       "      <td>1.1525</td>\n",
       "      <td>1.3854</td>\n",
       "      <td>5.6788</td>\n",
       "      <td>-4.5263</td>\n",
       "    </tr>\n",
       "    <tr>\n",
       "      <th>364</th>\n",
       "      <td>364</td>\n",
       "      <td>2021-05-03</td>\n",
       "      <td>1.1516</td>\n",
       "      <td>1.3870</td>\n",
       "      <td>5.6737</td>\n",
       "      <td>-4.5221</td>\n",
       "    </tr>\n",
       "    <tr>\n",
       "      <th>365</th>\n",
       "      <td>365</td>\n",
       "      <td>2021-05-02</td>\n",
       "      <td>1.1512</td>\n",
       "      <td>1.3909</td>\n",
       "      <td>5.6739</td>\n",
       "      <td>-4.5227</td>\n",
       "    </tr>\n",
       "  </tbody>\n",
       "</table>\n",
       "<p>366 rows × 6 columns</p>\n",
       "</div>"
      ],
      "text/plain": [
       "     Unnamed: 0       Date     EUR     USD     RON  eur_rom_diff\n",
       "0             0 2022-05-02  1.1932  1.2557  5.9036       -4.7104\n",
       "1             1 2022-05-01  1.1918  1.2561  5.8968       -4.7050\n",
       "2             2 2022-04-30  1.1918  1.2561  5.8968       -4.7050\n",
       "3             3 2022-04-29  1.1918  1.2561  5.8968       -4.7050\n",
       "4             4 2022-04-28  1.1855  1.2430  5.8659       -4.6804\n",
       "..          ...        ...     ...     ...     ...           ...\n",
       "361         361 2021-05-06  1.1533  1.3909  5.6816       -4.5283\n",
       "362         362 2021-05-05  1.1591  1.3915  5.7110       -4.5519\n",
       "363         363 2021-05-04  1.1525  1.3854  5.6788       -4.5263\n",
       "364         364 2021-05-03  1.1516  1.3870  5.6737       -4.5221\n",
       "365         365 2021-05-02  1.1512  1.3909  5.6739       -4.5227\n",
       "\n",
       "[366 rows x 6 columns]"
      ]
     },
     "execution_count": 24,
     "metadata": {},
     "output_type": "execute_result"
    }
   ],
   "source": [
    "df"
   ]
  },
  {
   "cell_type": "markdown",
   "id": "036d4222-e35b-4276-b88a-a5cff08ffb6d",
   "metadata": {},
   "source": [
    "The module can also be run directly from the command line"
   ]
  },
  {
   "cell_type": "code",
   "execution_count": 25,
   "id": "552ba046-1d09-4d41-afdb-4871fb77020f",
   "metadata": {},
   "outputs": [],
   "source": [
    "#!python excel_loader.py rates new_excelrates"
   ]
  },
  {
   "cell_type": "markdown",
   "id": "f455042f-0180-48da-a35a-746dd089db83",
   "metadata": {},
   "source": [
    "## Python Vs. Excel"
   ]
  },
  {
   "cell_type": "markdown",
   "id": "17c630c0-3751-40bd-977a-d01921c860d5",
   "metadata": {},
   "source": [
    "If an Excel pro:\n",
    "* Excel for genuinely new, possibly one-off analysis\n",
    "* Python for routine, non-unique tasks on standard sources\n",
    "\n",
    "If new to both, use whatever you are most comfortable with.\n",
    "\n",
    "Simple data extraction can be very easily automated."
   ]
  },
  {
   "cell_type": "markdown",
   "id": "a24feac3-4b48-4813-b72f-1ab5c9cc31ad",
   "metadata": {
    "tags": []
   },
   "source": [
    "## Leveraging Python & with Excel"
   ]
  },
  {
   "cell_type": "markdown",
   "id": "4cf667c9-330f-4ffc-b93e-f0b0ad0b049e",
   "metadata": {},
   "source": [
    "### Libraries"
   ]
  },
  {
   "cell_type": "code",
   "execution_count": 26,
   "id": "e58762d7-649b-4d80-aca9-c8ef2e0e7fb7",
   "metadata": {},
   "outputs": [],
   "source": [
    "import matplotlib.pyplot as plt\n",
    "import seaborn as sns"
   ]
  },
  {
   "cell_type": "markdown",
   "id": "404c0209",
   "metadata": {},
   "source": [
    "### Example Task: 30 day moving average exchange rate plot"
   ]
  },
  {
   "cell_type": "markdown",
   "id": "2ec95094-d9c7-4721-bb64-b428bd987425",
   "metadata": {},
   "source": [
    "Pandas DataFrames have lot's of functionalty we can leverage. Say we wanted to generate a 30-day moving average of an exchange rate. The `rolling` method makes this easy.\n",
    "\n",
    "We're going to load in the Euro exchange rate data, calculate a moving average, plot it, and then load that plot back into Excel."
   ]
  },
  {
   "cell_type": "markdown",
   "id": "620245dd-3bed-491d-bfee-567eed39cdf6",
   "metadata": {},
   "source": [
    "Let's start with `dict_rates`, a sheet we've loaded. We're only interested in the `EUR` table."
   ]
  },
  {
   "cell_type": "code",
   "execution_count": 27,
   "id": "629aa77c-65a1-4c5b-bf75-cb59c69b65ec",
   "metadata": {},
   "outputs": [],
   "source": [
    "eur = dict_rates['eur']"
   ]
  },
  {
   "cell_type": "markdown",
   "id": "4f27d1b1-580e-4f61-ab25-0c4a04c3d457",
   "metadata": {},
   "source": [
    "We can directly use the `rolling` method to calculate rolling averages.\n",
    "\n",
    "Let's construct a 7-day & a 30-day one & compare their appearance."
   ]
  },
  {
   "cell_type": "code",
   "execution_count": 28,
   "id": "db33abf4-6e0e-4ae1-85ee-a28a782feea5",
   "metadata": {},
   "outputs": [],
   "source": [
    "seven_day_rolling = eur.rolling(\n",
    "    on=\"Date\",\n",
    "    window = 7,\n",
    "    center=False\n",
    ").mean()\n",
    "\n",
    "thirty_day_rolling = eur.rolling(\n",
    "    on=\"Date\",\n",
    "    window = 30,\n",
    "    center=False\n",
    ").mean()"
   ]
  },
  {
   "cell_type": "code",
   "execution_count": 29,
   "id": "42879fca-0c06-49a5-9257-ce99f6521051",
   "metadata": {
    "tags": []
   },
   "outputs": [
    {
     "data": {
      "text/html": [
       "<div>\n",
       "<style scoped>\n",
       "    .dataframe tbody tr th:only-of-type {\n",
       "        vertical-align: middle;\n",
       "    }\n",
       "\n",
       "    .dataframe tbody tr th {\n",
       "        vertical-align: top;\n",
       "    }\n",
       "\n",
       "    .dataframe thead th {\n",
       "        text-align: right;\n",
       "    }\n",
       "</style>\n",
       "<table border=\"1\" class=\"dataframe\">\n",
       "  <thead>\n",
       "    <tr style=\"text-align: right;\">\n",
       "      <th></th>\n",
       "      <th>Date</th>\n",
       "      <th>EUR</th>\n",
       "    </tr>\n",
       "  </thead>\n",
       "  <tbody>\n",
       "    <tr>\n",
       "      <th>0</th>\n",
       "      <td>2022-05-02</td>\n",
       "      <td>NaN</td>\n",
       "    </tr>\n",
       "    <tr>\n",
       "      <th>1</th>\n",
       "      <td>2022-05-01</td>\n",
       "      <td>NaN</td>\n",
       "    </tr>\n",
       "    <tr>\n",
       "      <th>2</th>\n",
       "      <td>2022-04-30</td>\n",
       "      <td>NaN</td>\n",
       "    </tr>\n",
       "    <tr>\n",
       "      <th>3</th>\n",
       "      <td>2022-04-29</td>\n",
       "      <td>NaN</td>\n",
       "    </tr>\n",
       "    <tr>\n",
       "      <th>4</th>\n",
       "      <td>2022-04-28</td>\n",
       "      <td>NaN</td>\n",
       "    </tr>\n",
       "    <tr>\n",
       "      <th>...</th>\n",
       "      <td>...</td>\n",
       "      <td>...</td>\n",
       "    </tr>\n",
       "    <tr>\n",
       "      <th>361</th>\n",
       "      <td>2021-05-06</td>\n",
       "      <td>1.156757</td>\n",
       "    </tr>\n",
       "    <tr>\n",
       "      <th>362</th>\n",
       "      <td>2021-05-05</td>\n",
       "      <td>1.155843</td>\n",
       "    </tr>\n",
       "    <tr>\n",
       "      <th>363</th>\n",
       "      <td>2021-05-04</td>\n",
       "      <td>1.154400</td>\n",
       "    </tr>\n",
       "    <tr>\n",
       "      <th>364</th>\n",
       "      <td>2021-05-03</td>\n",
       "      <td>1.153171</td>\n",
       "    </tr>\n",
       "    <tr>\n",
       "      <th>365</th>\n",
       "      <td>2021-05-02</td>\n",
       "      <td>1.153071</td>\n",
       "    </tr>\n",
       "  </tbody>\n",
       "</table>\n",
       "<p>366 rows × 2 columns</p>\n",
       "</div>"
      ],
      "text/plain": [
       "          Date       EUR\n",
       "0   2022-05-02       NaN\n",
       "1   2022-05-01       NaN\n",
       "2   2022-04-30       NaN\n",
       "3   2022-04-29       NaN\n",
       "4   2022-04-28       NaN\n",
       "..         ...       ...\n",
       "361 2021-05-06  1.156757\n",
       "362 2021-05-05  1.155843\n",
       "363 2021-05-04  1.154400\n",
       "364 2021-05-03  1.153171\n",
       "365 2021-05-02  1.153071\n",
       "\n",
       "[366 rows x 2 columns]"
      ]
     },
     "execution_count": 29,
     "metadata": {},
     "output_type": "execute_result"
    }
   ],
   "source": [
    "seven_day_rolling"
   ]
  },
  {
   "cell_type": "markdown",
   "id": "84dba8ac",
   "metadata": {},
   "source": [
    "### Store moving averages in the DataFrame"
   ]
  },
  {
   "cell_type": "code",
   "execution_count": 30,
   "id": "9688b8d5",
   "metadata": {},
   "outputs": [],
   "source": [
    "eur['SMA_30'] = thirty_day_rolling[\"EUR\"]\n",
    "eur['SMA_7'] = seven_day_rolling[\"EUR\"]"
   ]
  },
  {
   "cell_type": "code",
   "execution_count": 31,
   "id": "9f5d74fa",
   "metadata": {},
   "outputs": [
    {
     "data": {
      "text/html": [
       "<div>\n",
       "<style scoped>\n",
       "    .dataframe tbody tr th:only-of-type {\n",
       "        vertical-align: middle;\n",
       "    }\n",
       "\n",
       "    .dataframe tbody tr th {\n",
       "        vertical-align: top;\n",
       "    }\n",
       "\n",
       "    .dataframe thead th {\n",
       "        text-align: right;\n",
       "    }\n",
       "</style>\n",
       "<table border=\"1\" class=\"dataframe\">\n",
       "  <thead>\n",
       "    <tr style=\"text-align: right;\">\n",
       "      <th></th>\n",
       "      <th>Date</th>\n",
       "      <th>EUR</th>\n",
       "      <th>SMA_30</th>\n",
       "      <th>SMA_7</th>\n",
       "    </tr>\n",
       "  </thead>\n",
       "  <tbody>\n",
       "    <tr>\n",
       "      <th>0</th>\n",
       "      <td>2022-05-02</td>\n",
       "      <td>1.1932</td>\n",
       "      <td>NaN</td>\n",
       "      <td>NaN</td>\n",
       "    </tr>\n",
       "    <tr>\n",
       "      <th>1</th>\n",
       "      <td>2022-05-01</td>\n",
       "      <td>1.1918</td>\n",
       "      <td>NaN</td>\n",
       "      <td>NaN</td>\n",
       "    </tr>\n",
       "    <tr>\n",
       "      <th>2</th>\n",
       "      <td>2022-04-30</td>\n",
       "      <td>1.1918</td>\n",
       "      <td>NaN</td>\n",
       "      <td>NaN</td>\n",
       "    </tr>\n",
       "    <tr>\n",
       "      <th>3</th>\n",
       "      <td>2022-04-29</td>\n",
       "      <td>1.1918</td>\n",
       "      <td>NaN</td>\n",
       "      <td>NaN</td>\n",
       "    </tr>\n",
       "    <tr>\n",
       "      <th>4</th>\n",
       "      <td>2022-04-28</td>\n",
       "      <td>1.1855</td>\n",
       "      <td>NaN</td>\n",
       "      <td>NaN</td>\n",
       "    </tr>\n",
       "    <tr>\n",
       "      <th>5</th>\n",
       "      <td>2022-04-27</td>\n",
       "      <td>1.1874</td>\n",
       "      <td>NaN</td>\n",
       "      <td>NaN</td>\n",
       "    </tr>\n",
       "    <tr>\n",
       "      <th>6</th>\n",
       "      <td>2022-04-26</td>\n",
       "      <td>1.1886</td>\n",
       "      <td>NaN</td>\n",
       "      <td>1.190014</td>\n",
       "    </tr>\n",
       "    <tr>\n",
       "      <th>7</th>\n",
       "      <td>2022-04-25</td>\n",
       "      <td>1.1858</td>\n",
       "      <td>NaN</td>\n",
       "      <td>1.188957</td>\n",
       "    </tr>\n",
       "    <tr>\n",
       "      <th>8</th>\n",
       "      <td>2022-04-24</td>\n",
       "      <td>1.1915</td>\n",
       "      <td>NaN</td>\n",
       "      <td>1.188914</td>\n",
       "    </tr>\n",
       "    <tr>\n",
       "      <th>9</th>\n",
       "      <td>2022-04-23</td>\n",
       "      <td>1.1915</td>\n",
       "      <td>NaN</td>\n",
       "      <td>1.188871</td>\n",
       "    </tr>\n",
       "  </tbody>\n",
       "</table>\n",
       "</div>"
      ],
      "text/plain": [
       "        Date     EUR  SMA_30     SMA_7\n",
       "0 2022-05-02  1.1932     NaN       NaN\n",
       "1 2022-05-01  1.1918     NaN       NaN\n",
       "2 2022-04-30  1.1918     NaN       NaN\n",
       "3 2022-04-29  1.1918     NaN       NaN\n",
       "4 2022-04-28  1.1855     NaN       NaN\n",
       "5 2022-04-27  1.1874     NaN       NaN\n",
       "6 2022-04-26  1.1886     NaN  1.190014\n",
       "7 2022-04-25  1.1858     NaN  1.188957\n",
       "8 2022-04-24  1.1915     NaN  1.188914\n",
       "9 2022-04-23  1.1915     NaN  1.188871"
      ]
     },
     "execution_count": 31,
     "metadata": {},
     "output_type": "execute_result"
    }
   ],
   "source": [
    "eur.head(10)"
   ]
  },
  {
   "cell_type": "markdown",
   "id": "21dada44-9458-4f1a-8a31-c845df5f89ef",
   "metadata": {},
   "source": [
    "### Visualising the Data"
   ]
  },
  {
   "cell_type": "markdown",
   "id": "81226a9b-ec43-4b52-9b19-4222513199d3",
   "metadata": {},
   "source": [
    "Matplotlib or seaborn allow us to quickly view the data"
   ]
  },
  {
   "cell_type": "code",
   "execution_count": 32,
   "id": "e6fbc1aa",
   "metadata": {},
   "outputs": [
    {
     "data": {
      "text/plain": [
       "<matplotlib.legend.Legend at 0x2b6e2d78700>"
      ]
     },
     "execution_count": 32,
     "metadata": {},
     "output_type": "execute_result"
    },
    {
     "data": {
      "image/png": "[encoded data removed]",
      "text/plain": [
       "<Figure size 1080x720 with 1 Axes>"
      ]
     },
     "metadata": {
      "needs_background": "light"
     },
     "output_type": "display_data"
    }
   ],
   "source": [
    "import matplotlib.pyplot as plt\n",
    "plt.figure(figsize=[15,10])\n",
    "plt.grid(True)\n",
    "plt.plot(eur['EUR'],label='daily')\n",
    "plt.plot(eur['SMA_30'],label='SMA 30 days')\n",
    "plt.legend(loc=2)"
   ]
  },
  {
   "cell_type": "markdown",
   "id": "07767121",
   "metadata": {},
   "source": [
    "### 7 day moving average"
   ]
  },
  {
   "cell_type": "code",
   "execution_count": 33,
   "id": "aaf7f2c6",
   "metadata": {},
   "outputs": [],
   "source": [
    "eur['SMA_7'] = eur.iloc[:,1].rolling(window=7).mean()"
   ]
  },
  {
   "cell_type": "code",
   "execution_count": 34,
   "id": "4ddbea09",
   "metadata": {
    "scrolled": true
   },
   "outputs": [
    {
     "data": {
      "text/html": [
       "<div>\n",
       "<style scoped>\n",
       "    .dataframe tbody tr th:only-of-type {\n",
       "        vertical-align: middle;\n",
       "    }\n",
       "\n",
       "    .dataframe tbody tr th {\n",
       "        vertical-align: top;\n",
       "    }\n",
       "\n",
       "    .dataframe thead th {\n",
       "        text-align: right;\n",
       "    }\n",
       "</style>\n",
       "<table border=\"1\" class=\"dataframe\">\n",
       "  <thead>\n",
       "    <tr style=\"text-align: right;\">\n",
       "      <th></th>\n",
       "      <th>Date</th>\n",
       "      <th>EUR</th>\n",
       "      <th>SMA_30</th>\n",
       "      <th>SMA_7</th>\n",
       "    </tr>\n",
       "  </thead>\n",
       "  <tbody>\n",
       "    <tr>\n",
       "      <th>0</th>\n",
       "      <td>2022-05-02</td>\n",
       "      <td>1.1932</td>\n",
       "      <td>NaN</td>\n",
       "      <td>NaN</td>\n",
       "    </tr>\n",
       "    <tr>\n",
       "      <th>1</th>\n",
       "      <td>2022-05-01</td>\n",
       "      <td>1.1918</td>\n",
       "      <td>NaN</td>\n",
       "      <td>NaN</td>\n",
       "    </tr>\n",
       "    <tr>\n",
       "      <th>2</th>\n",
       "      <td>2022-04-30</td>\n",
       "      <td>1.1918</td>\n",
       "      <td>NaN</td>\n",
       "      <td>NaN</td>\n",
       "    </tr>\n",
       "    <tr>\n",
       "      <th>3</th>\n",
       "      <td>2022-04-29</td>\n",
       "      <td>1.1918</td>\n",
       "      <td>NaN</td>\n",
       "      <td>NaN</td>\n",
       "    </tr>\n",
       "    <tr>\n",
       "      <th>4</th>\n",
       "      <td>2022-04-28</td>\n",
       "      <td>1.1855</td>\n",
       "      <td>NaN</td>\n",
       "      <td>NaN</td>\n",
       "    </tr>\n",
       "    <tr>\n",
       "      <th>5</th>\n",
       "      <td>2022-04-27</td>\n",
       "      <td>1.1874</td>\n",
       "      <td>NaN</td>\n",
       "      <td>NaN</td>\n",
       "    </tr>\n",
       "    <tr>\n",
       "      <th>6</th>\n",
       "      <td>2022-04-26</td>\n",
       "      <td>1.1886</td>\n",
       "      <td>NaN</td>\n",
       "      <td>1.190014</td>\n",
       "    </tr>\n",
       "    <tr>\n",
       "      <th>7</th>\n",
       "      <td>2022-04-25</td>\n",
       "      <td>1.1858</td>\n",
       "      <td>NaN</td>\n",
       "      <td>1.188957</td>\n",
       "    </tr>\n",
       "    <tr>\n",
       "      <th>8</th>\n",
       "      <td>2022-04-24</td>\n",
       "      <td>1.1915</td>\n",
       "      <td>NaN</td>\n",
       "      <td>1.188914</td>\n",
       "    </tr>\n",
       "    <tr>\n",
       "      <th>9</th>\n",
       "      <td>2022-04-23</td>\n",
       "      <td>1.1915</td>\n",
       "      <td>NaN</td>\n",
       "      <td>1.188871</td>\n",
       "    </tr>\n",
       "  </tbody>\n",
       "</table>\n",
       "</div>"
      ],
      "text/plain": [
       "        Date     EUR  SMA_30     SMA_7\n",
       "0 2022-05-02  1.1932     NaN       NaN\n",
       "1 2022-05-01  1.1918     NaN       NaN\n",
       "2 2022-04-30  1.1918     NaN       NaN\n",
       "3 2022-04-29  1.1918     NaN       NaN\n",
       "4 2022-04-28  1.1855     NaN       NaN\n",
       "5 2022-04-27  1.1874     NaN       NaN\n",
       "6 2022-04-26  1.1886     NaN  1.190014\n",
       "7 2022-04-25  1.1858     NaN  1.188957\n",
       "8 2022-04-24  1.1915     NaN  1.188914\n",
       "9 2022-04-23  1.1915     NaN  1.188871"
      ]
     },
     "execution_count": 34,
     "metadata": {},
     "output_type": "execute_result"
    }
   ],
   "source": [
    "eur.head(10)"
   ]
  },
  {
   "cell_type": "code",
   "execution_count": 41,
   "id": "8adf91d7",
   "metadata": {},
   "outputs": [
    {
     "data": {
      "image/png": "[encoded data removed]",
      "text/plain": [
       "<Figure size 1080x720 with 1 Axes>"
      ]
     },
     "metadata": {},
     "output_type": "display_data"
    }
   ],
   "source": [
    "plt.style.use('fivethirtyeight') # Change plotting style\n",
    "plt.figure(figsize=[15,10])\n",
    "plt.grid(True)\n",
    "plt.plot(eur['EUR'],label='daily')\n",
    "plt.plot(eur['SMA_7'],label='SMA 7 days')\n",
    "plt.plot(eur['SMA_30'],label='SMA 30 days')\n",
    "plt.legend(loc=2)\n",
    "\n",
    "plt.savefig(\"rolling_averages.png\")"
   ]
  },
  {
   "cell_type": "markdown",
   "id": "d29ecbee-378d-4be8-9c9b-3c01f9cfd0c2",
   "metadata": {},
   "source": [
    "### Write the data"
   ]
  },
  {
   "cell_type": "code",
   "execution_count": 46,
   "id": "95592463-7825-4abb-87a5-185d3dd5971e",
   "metadata": {},
   "outputs": [],
   "source": [
    "eur.to_excel('data_and_image.xlsx',\n",
    "            sheet_name='rate_data')"
   ]
  },
  {
   "cell_type": "markdown",
   "id": "39fc3191-44f3-471f-9e48-c44b7959fc20",
   "metadata": {},
   "source": [
    "### Load the image into Excel"
   ]
  },
  {
   "cell_type": "code",
   "execution_count": 37,
   "id": "db940d97-e4bf-41aa-be60-ceb879b49259",
   "metadata": {},
   "outputs": [],
   "source": [
    "import openpyxl"
   ]
  },
  {
   "cell_type": "code",
   "execution_count": 49,
   "id": "4f7f4751-6e8f-4845-ad40-d99f5a98f415",
   "metadata": {},
   "outputs": [],
   "source": [
    "wb = openpyxl.load_workbook(filename = 'data_and_image.xlsx')\n",
    "\n",
    "ws = wb.create_sheet(\"rate_plot\")"
   ]
  },
  {
   "cell_type": "code",
   "execution_count": 50,
   "id": "3f654655-eadd-4270-8c66-a8fe8f6783b4",
   "metadata": {},
   "outputs": [],
   "source": [
    "img = openpyxl.drawing.image.Image('rolling_averages.png')\n",
    "img.anchor = 'A1'\n",
    "ws.add_image(img)\n",
    "wb.save('data_and_image.xlsx')"
   ]
  },
  {
   "cell_type": "markdown",
   "id": "0555385a",
   "metadata": {
    "tags": []
   },
   "source": [
    "#### pd special methods"
   ]
  },
  {
   "cell_type": "markdown",
   "id": "9b3a96ee",
   "metadata": {},
   "source": [
    "\"pandas has many optional dependencies that are only used for specific methods\"\n",
    "* ref: https://pandas.pydata.org/docs/getting_started/install.html#optional-dependencies\n",
    "\n",
    "* pd.read_excel() is dependent on `openpyxl`"
   ]
  },
  {
   "cell_type": "markdown",
   "id": "bdcd1f7c-ee4f-4aa6-a099-a019846c1083",
   "metadata": {},
   "source": [
    "### Exercise\n",
    "* Insert a 10 day rolling average, along with the data used to compute it, into a workbook called \"10_day_average.xlsx\""
   ]
  },
  {
   "cell_type": "markdown",
   "id": "9c162edb-332b-4a87-be1d-1b535093b561",
   "metadata": {},
   "source": [
    "## Manipulating Excel with Python"
   ]
  },
  {
   "cell_type": "markdown",
   "id": "b178c519",
   "metadata": {},
   "source": [
    "### `openpyxl`"
   ]
  },
  {
   "cell_type": "markdown",
   "id": "bf9b0ef5-cf2d-4451-bbad-6a25c0c22a35",
   "metadata": {},
   "source": [
    "A quick overview of of working with workbooks, sheets & cells."
   ]
  },
  {
   "cell_type": "code",
   "execution_count": 53,
   "id": "d2120b10",
   "metadata": {},
   "outputs": [],
   "source": [
    "import openpyxl"
   ]
  },
  {
   "cell_type": "markdown",
   "id": "554cfed0",
   "metadata": {},
   "source": [
    "Say we wanted to create a new workbook. Within that workbook, we wanted to load in data regarding current GBP, EUR, and RON exchange rates to one sheet, add an image of a rolling average plot in another sheet, and set up an aggregate table in a final sheet.\n",
    "\n",
    "OpenPyXL lets us do all of that.\n",
    "\n",
    "First, we create a workbook object"
   ]
  },
  {
   "cell_type": "code",
   "execution_count": 51,
   "id": "a4ed93d3",
   "metadata": {},
   "outputs": [],
   "source": [
    "wb_obj = openpyxl.Workbook() "
   ]
  },
  {
   "cell_type": "markdown",
   "id": "d78fb42c",
   "metadata": {},
   "source": [
    "From the workbook object, we create an active sheet object."
   ]
  },
  {
   "cell_type": "code",
   "execution_count": 52,
   "id": "58d601fc",
   "metadata": {},
   "outputs": [],
   "source": [
    "sheet_obj = wb_obj.active"
   ]
  },
  {
   "cell_type": "markdown",
   "id": "4baa43f7-10d4-4fad-846c-90fd943148b2",
   "metadata": {},
   "source": [
    "From the sheet object, we can go as far as to select & operate on individual cells."
   ]
  },
  {
   "cell_type": "code",
   "execution_count": 53,
   "id": "7200c28b",
   "metadata": {},
   "outputs": [],
   "source": [
    "cell_obj = sheet_obj.cell(row = 1, column = 1) "
   ]
  },
  {
   "cell_type": "markdown",
   "id": "a8a03ca4-b696-4de7-b305-3114028dde6f",
   "metadata": {},
   "source": [
    "A quick overview of of working with workbooks, sheets & cells.\n",
    "\n",
    "You can think of the OpenPyXl representation of an Excel sheet as similar to a dictionary, but where the index is ordered.\n",
    "\n",
    "*Aside: `.iter_rows()` is a method on a Worksheet object which"
   ]
  },
  {
   "cell_type": "code",
   "execution_count": 54,
   "id": "f857c873-4fcf-488d-a1d8-90a76594c396",
   "metadata": {},
   "outputs": [],
   "source": [
    "def print_rows(sheet):\n",
    "    for row in sheet.iter_rows(values_only=True):\n",
    "        print(row)"
   ]
  },
  {
   "cell_type": "code",
   "execution_count": 55,
   "id": "7a91d004-0b6a-482f-a3d4-fd9e1faa3398",
   "metadata": {},
   "outputs": [
    {
     "name": "stdout",
     "output_type": "stream",
     "text": [
      "(None,)\n"
     ]
    }
   ],
   "source": [
    "print_rows(sheet_obj)"
   ]
  },
  {
   "cell_type": "markdown",
   "id": "b6533c1a-54da-400e-827d-06e462c7ae45",
   "metadata": {},
   "source": [
    "We can act on sheets as we've seen above."
   ]
  },
  {
   "cell_type": "code",
   "execution_count": 56,
   "id": "0067c534-580c-46f0-a864-5862fc8938bb",
   "metadata": {},
   "outputs": [],
   "source": [
    "sheet_obj[\"A1\"] = \"Data\""
   ]
  },
  {
   "cell_type": "code",
   "execution_count": 57,
   "id": "ce4b2ea1-2fd8-4d20-8b3f-880d24efc8cc",
   "metadata": {},
   "outputs": [
    {
     "name": "stdout",
     "output_type": "stream",
     "text": [
      "('Data',)\n"
     ]
    }
   ],
   "source": [
    "print_rows(sheet_obj)"
   ]
  },
  {
   "cell_type": "code",
   "execution_count": 58,
   "id": "c97e281a-b094-41ed-b705-0d787a6d22ad",
   "metadata": {},
   "outputs": [],
   "source": [
    "sheet_obj[\"B1\"] = 100"
   ]
  },
  {
   "cell_type": "code",
   "execution_count": 59,
   "id": "2e4fcfe8-dc28-4e3f-b1b1-e3bf67d8fe7c",
   "metadata": {},
   "outputs": [
    {
     "name": "stdout",
     "output_type": "stream",
     "text": [
      "('Data', 100)\n"
     ]
    }
   ],
   "source": [
    "print_rows(sheet_obj)"
   ]
  },
  {
   "cell_type": "code",
   "execution_count": 60,
   "id": "b9e96211-438b-41f8-9216-9ebf5d1700ad",
   "metadata": {},
   "outputs": [],
   "source": [
    "wb_obj.save(\"my_data.xlsx\")"
   ]
  },
  {
   "cell_type": "markdown",
   "id": "5d9db1e7-cd21-4c2f-b663-0a86bfb3dcc4",
   "metadata": {},
   "source": [
    "### `xlwings`"
   ]
  },
  {
   "cell_type": "code",
   "execution_count": 3,
   "id": "b58126d3-0a71-4344-bb60-b6a597858a91",
   "metadata": {
    "collapsed": true,
    "jupyter": {
     "outputs_hidden": true
    },
    "tags": []
   },
   "outputs": [
    {
     "name": "stdout",
     "output_type": "stream",
     "text": [
      "Collecting xlwings\n",
      "  Downloading xlwings-0.27.12-py3-none-any.whl (1.1 MB)\n",
      "Requirement already satisfied: pywin32>=224 in c:\\users\\thomas holmes\\.conda\\envs\\ppds\\lib\\site-packages (from xlwings) (302)\n",
      "Installing collected packages: xlwings\n",
      "Successfully installed xlwings-0.27.12\n"
     ]
    }
   ],
   "source": [
    "!pip install xlwings"
   ]
  },
  {
   "cell_type": "markdown",
   "id": "7306b34e-7bc9-4948-ab71-1095284b927d",
   "metadata": {},
   "source": [
    "There are two main ways of working with xlwings - interactive mode & scripting mode.\n",
    "\n",
    "Interactive mode is useful when you want to hook a jupyter notebook up to a spreadsheet, then read or write data computed in either Python or Excel.\n",
    "\n",
    "Scripting mode is useful when you want to run a script which uses spreadsheets in the background - you will not see the \"live\" updating of the spreadsheet.\n",
    "\n",
    "We start with interactive mode before digging deeper into scripting mode."
   ]
  },
  {
   "cell_type": "markdown",
   "id": "8e9cdeba-0001-4cbe-a86a-3a30ca8c8ff6",
   "metadata": {},
   "source": [
    "#### Interactive Mode"
   ]
  },
  {
   "cell_type": "markdown",
   "id": "dc69c22a-d957-427b-9f96-587f9081abd7",
   "metadata": {},
   "source": [
    "##### Setting up an active workbook"
   ]
  },
  {
   "cell_type": "markdown",
   "id": "1c5211a1-c9ac-44ac-98db-e12eb24937ad",
   "metadata": {},
   "source": [
    "To set an active workbook, we create an xlwings `Book` object, specifying the location of the file.\n",
    "\n",
    "Note: this will start an excel session."
   ]
  },
  {
   "cell_type": "code",
   "execution_count": 18,
   "id": "d462d77e-2564-4133-b8d4-781dfbdd8c02",
   "metadata": {},
   "outputs": [],
   "source": [
    "import xlwings as xw\n",
    "\n",
    "wb = xw.Book(r\"datasets/rates_copy.xlsx\")"
   ]
  },
  {
   "cell_type": "markdown",
   "id": "09d2921a-b522-481d-9ef1-d5fc6c205557",
   "metadata": {},
   "source": [
    "#####  Simple Read/Write from Excel to Python & vice-versa"
   ]
  },
  {
   "cell_type": "markdown",
   "id": "69a119e1-cdef-4f17-b756-42114f022a30",
   "metadata": {},
   "source": [
    "To read Excel data into a pandas DataFrame\n",
    ", use the `load` function."
   ]
  },
  {
   "cell_type": "code",
   "execution_count": 19,
   "id": "c6b39422-211a-4457-a15a-33df8962e3ae",
   "metadata": {},
   "outputs": [],
   "source": [
    "from xlwings import load\n",
    "\n",
    "df = load()"
   ]
  },
  {
   "cell_type": "code",
   "execution_count": 20,
   "id": "14cfa75c-7774-4ba9-8985-11362217701d",
   "metadata": {},
   "outputs": [
    {
     "data": {
      "text/html": [
       "<div>\n",
       "<style scoped>\n",
       "    .dataframe tbody tr th:only-of-type {\n",
       "        vertical-align: middle;\n",
       "    }\n",
       "\n",
       "    .dataframe tbody tr th {\n",
       "        vertical-align: top;\n",
       "    }\n",
       "\n",
       "    .dataframe thead th {\n",
       "        text-align: right;\n",
       "    }\n",
       "</style>\n",
       "<table border=\"1\" class=\"dataframe\">\n",
       "  <thead>\n",
       "    <tr style=\"text-align: right;\">\n",
       "      <th></th>\n",
       "      <th>EUR</th>\n",
       "      <th>USD</th>\n",
       "    </tr>\n",
       "    <tr>\n",
       "      <th>Date</th>\n",
       "      <th></th>\n",
       "      <th></th>\n",
       "    </tr>\n",
       "  </thead>\n",
       "  <tbody>\n",
       "    <tr>\n",
       "      <th>2022-05-02</th>\n",
       "      <td>1.1932</td>\n",
       "      <td>1.2557</td>\n",
       "    </tr>\n",
       "    <tr>\n",
       "      <th>2022-05-01</th>\n",
       "      <td>1.1918</td>\n",
       "      <td>1.2561</td>\n",
       "    </tr>\n",
       "    <tr>\n",
       "      <th>2022-04-30</th>\n",
       "      <td>1.1918</td>\n",
       "      <td>1.2561</td>\n",
       "    </tr>\n",
       "    <tr>\n",
       "      <th>2022-04-29</th>\n",
       "      <td>1.1918</td>\n",
       "      <td>1.2561</td>\n",
       "    </tr>\n",
       "    <tr>\n",
       "      <th>2022-04-28</th>\n",
       "      <td>1.1855</td>\n",
       "      <td>1.2430</td>\n",
       "    </tr>\n",
       "    <tr>\n",
       "      <th>...</th>\n",
       "      <td>...</td>\n",
       "      <td>...</td>\n",
       "    </tr>\n",
       "    <tr>\n",
       "      <th>2021-05-06</th>\n",
       "      <td>1.1533</td>\n",
       "      <td>1.3909</td>\n",
       "    </tr>\n",
       "    <tr>\n",
       "      <th>2021-05-05</th>\n",
       "      <td>1.1591</td>\n",
       "      <td>1.3915</td>\n",
       "    </tr>\n",
       "    <tr>\n",
       "      <th>2021-05-04</th>\n",
       "      <td>1.1525</td>\n",
       "      <td>1.3854</td>\n",
       "    </tr>\n",
       "    <tr>\n",
       "      <th>2021-05-03</th>\n",
       "      <td>1.1516</td>\n",
       "      <td>1.3870</td>\n",
       "    </tr>\n",
       "    <tr>\n",
       "      <th>2021-05-02</th>\n",
       "      <td>1.1512</td>\n",
       "      <td>1.3909</td>\n",
       "    </tr>\n",
       "  </tbody>\n",
       "</table>\n",
       "<p>366 rows × 2 columns</p>\n",
       "</div>"
      ],
      "text/plain": [
       "               EUR     USD\n",
       "Date                      \n",
       "2022-05-02  1.1932  1.2557\n",
       "2022-05-01  1.1918  1.2561\n",
       "2022-04-30  1.1918  1.2561\n",
       "2022-04-29  1.1918  1.2561\n",
       "2022-04-28  1.1855  1.2430\n",
       "...            ...     ...\n",
       "2021-05-06  1.1533  1.3909\n",
       "2021-05-05  1.1591  1.3915\n",
       "2021-05-04  1.1525  1.3854\n",
       "2021-05-03  1.1516  1.3870\n",
       "2021-05-02  1.1512  1.3909\n",
       "\n",
       "[366 rows x 2 columns]"
      ]
     },
     "execution_count": 20,
     "metadata": {},
     "output_type": "execute_result"
    }
   ],
   "source": [
    "df.drop(columns=\"RON\",\n",
    "       axis=1)"
   ]
  },
  {
   "cell_type": "markdown",
   "id": "e1335b16-92e7-411f-9602-14909c262d10",
   "metadata": {},
   "source": [
    "To write Python or pandas/numpy data to an Excel file, starting in a particular cell, use the `view` function.\n",
    "\n",
    "Without specifying the workbook, a new `.xlsx` file is created in the same directory as the notebook.\n",
    "\n",
    "If a file/book object is specified, content can be written/overwritten"
   ]
  },
  {
   "cell_type": "code",
   "execution_count": 21,
   "id": "ded62b65-5474-49ca-8224-022d7b0cc085",
   "metadata": {},
   "outputs": [],
   "source": [
    "from xlwings import view\n",
    "\n",
    "view(df)"
   ]
  },
  {
   "cell_type": "code",
   "execution_count": 22,
   "id": "f1a40b07-fa14-4cac-b5c0-a6cfb884155c",
   "metadata": {},
   "outputs": [],
   "source": [
    "view(df,\n",
    "    sheet=wb.sheets[1])"
   ]
  },
  {
   "cell_type": "markdown",
   "id": "0745aadc-b53e-4f62-bb6e-f33d6976a1cb",
   "metadata": {},
   "source": [
    "We close the workbook one we are done with it. Note, the Excel instance will continue to run."
   ]
  },
  {
   "cell_type": "code",
   "execution_count": 23,
   "id": "bb8cf1ee-13bb-4555-a5d8-ef1dd09f466d",
   "metadata": {
    "tags": []
   },
   "outputs": [],
   "source": [
    "wb.close()"
   ]
  },
  {
   "cell_type": "markdown",
   "id": "ade37627-958b-45a7-a9d0-cd1883488cae",
   "metadata": {},
   "source": [
    "If you want to close down the Excel instance, you can use `kill()`"
   ]
  },
  {
   "cell_type": "code",
   "execution_count": 26,
   "id": "57a851e9-d27c-4522-b4f8-894b9836450f",
   "metadata": {
    "tags": []
   },
   "outputs": [
    {
     "ename": "AttributeError",
     "evalue": "'NoneType' object has no attribute 'kill'",
     "output_type": "error",
     "traceback": [
      "\u001b[1;31m---------------------------------------------------------------------------\u001b[0m",
      "\u001b[1;31mAttributeError\u001b[0m                            Traceback (most recent call last)",
      "\u001b[1;32mC:\\Users\\THOMAS~1\\AppData\\Local\\Temp/ipykernel_15136/1816971049.py\u001b[0m in \u001b[0;36m<module>\u001b[1;34m\u001b[0m\n\u001b[1;32m----> 1\u001b[1;33m \u001b[0mxw\u001b[0m\u001b[1;33m.\u001b[0m\u001b[0mapps\u001b[0m\u001b[1;33m.\u001b[0m\u001b[0mactive\u001b[0m\u001b[1;33m.\u001b[0m\u001b[0mkill\u001b[0m\u001b[1;33m(\u001b[0m\u001b[1;33m)\u001b[0m\u001b[1;33m\u001b[0m\u001b[1;33m\u001b[0m\u001b[0m\n\u001b[0m",
      "\u001b[1;31mAttributeError\u001b[0m: 'NoneType' object has no attribute 'kill'"
     ]
    }
   ],
   "source": [
    "xw.apps.active.kill()"
   ]
  },
  {
   "cell_type": "markdown",
   "id": "ab99af4f-b505-46fa-a3d0-7562a6af1c9e",
   "metadata": {},
   "source": [
    "### Scripting mode"
   ]
  },
  {
   "cell_type": "markdown",
   "id": "b4d414f5-104f-40aa-a31f-69da2a626ba9",
   "metadata": {},
   "source": [
    "More often than not, you will want to run Excel in the backgorund.\n",
    "\n",
    "The functionality we outline here can also be used in interactive mode. The main difference is the inability to use `load()` and `view()`\n",
    "\n",
    "We need to set up a workbook, act on it, then close it down."
   ]
  },
  {
   "cell_type": "markdown",
   "id": "1c088001-07a1-447f-82bb-028917d12126",
   "metadata": {},
   "source": [
    "#### Set up a workbook"
   ]
  },
  {
   "cell_type": "code",
   "execution_count": 27,
   "id": "aa485b48-2758-4dc5-859b-2abf8398c414",
   "metadata": {},
   "outputs": [],
   "source": [
    "wb = xw.Book(r\"datasets/rates_copy.xlsx\")"
   ]
  },
  {
   "cell_type": "code",
   "execution_count": 39,
   "id": "17246a73-1057-4ef5-803b-499a1ed746e6",
   "metadata": {},
   "outputs": [],
   "source": [
    "rates_sheet = wb.sheets[0]"
   ]
  },
  {
   "cell_type": "markdown",
   "id": "136fd559-f6f9-4bd5-80f1-9782bfeffc1c",
   "metadata": {},
   "source": [
    "Convert read in workbook to pandas DataFrame."
   ]
  },
  {
   "cell_type": "code",
   "execution_count": 40,
   "id": "0eece9f0-620a-4efa-b3e1-a3f49290b928",
   "metadata": {},
   "outputs": [],
   "source": [
    "rates_df = rates_sheet.range('A1').options(pd.DataFrame,\n",
    "                                           expand=\"table\").value"
   ]
  },
  {
   "cell_type": "markdown",
   "id": "f7a9674c-6a92-485d-b054-61acfb0a4886",
   "metadata": {},
   "source": [
    "We can now work with the data in the workbook using the power of Python."
   ]
  },
  {
   "cell_type": "code",
   "execution_count": 41,
   "id": "8c8b65b5-09ea-493c-956f-95a9ab5d90f7",
   "metadata": {},
   "outputs": [
    {
     "data": {
      "text/html": [
       "<div>\n",
       "<style scoped>\n",
       "    .dataframe tbody tr th:only-of-type {\n",
       "        vertical-align: middle;\n",
       "    }\n",
       "\n",
       "    .dataframe tbody tr th {\n",
       "        vertical-align: top;\n",
       "    }\n",
       "\n",
       "    .dataframe thead th {\n",
       "        text-align: right;\n",
       "    }\n",
       "</style>\n",
       "<table border=\"1\" class=\"dataframe\">\n",
       "  <thead>\n",
       "    <tr style=\"text-align: right;\">\n",
       "      <th></th>\n",
       "      <th>EUR</th>\n",
       "      <th>USD</th>\n",
       "      <th>RON</th>\n",
       "    </tr>\n",
       "    <tr>\n",
       "      <th>Date</th>\n",
       "      <th></th>\n",
       "      <th></th>\n",
       "      <th></th>\n",
       "    </tr>\n",
       "  </thead>\n",
       "  <tbody>\n",
       "    <tr>\n",
       "      <th>2022-05-02</th>\n",
       "      <td>1.1932</td>\n",
       "      <td>1.2557</td>\n",
       "      <td>5.9036</td>\n",
       "    </tr>\n",
       "    <tr>\n",
       "      <th>2022-05-01</th>\n",
       "      <td>1.1918</td>\n",
       "      <td>1.2561</td>\n",
       "      <td>5.8968</td>\n",
       "    </tr>\n",
       "    <tr>\n",
       "      <th>2022-04-30</th>\n",
       "      <td>1.1918</td>\n",
       "      <td>1.2561</td>\n",
       "      <td>5.8968</td>\n",
       "    </tr>\n",
       "    <tr>\n",
       "      <th>2022-04-29</th>\n",
       "      <td>1.1918</td>\n",
       "      <td>1.2561</td>\n",
       "      <td>5.8968</td>\n",
       "    </tr>\n",
       "    <tr>\n",
       "      <th>2022-04-28</th>\n",
       "      <td>1.1855</td>\n",
       "      <td>1.2430</td>\n",
       "      <td>5.8659</td>\n",
       "    </tr>\n",
       "    <tr>\n",
       "      <th>...</th>\n",
       "      <td>...</td>\n",
       "      <td>...</td>\n",
       "      <td>...</td>\n",
       "    </tr>\n",
       "    <tr>\n",
       "      <th>2021-05-06</th>\n",
       "      <td>1.1533</td>\n",
       "      <td>1.3909</td>\n",
       "      <td>5.6816</td>\n",
       "    </tr>\n",
       "    <tr>\n",
       "      <th>2021-05-05</th>\n",
       "      <td>1.1591</td>\n",
       "      <td>1.3915</td>\n",
       "      <td>5.7110</td>\n",
       "    </tr>\n",
       "    <tr>\n",
       "      <th>2021-05-04</th>\n",
       "      <td>1.1525</td>\n",
       "      <td>1.3854</td>\n",
       "      <td>5.6788</td>\n",
       "    </tr>\n",
       "    <tr>\n",
       "      <th>2021-05-03</th>\n",
       "      <td>1.1516</td>\n",
       "      <td>1.3870</td>\n",
       "      <td>5.6737</td>\n",
       "    </tr>\n",
       "    <tr>\n",
       "      <th>2021-05-02</th>\n",
       "      <td>1.1512</td>\n",
       "      <td>1.3909</td>\n",
       "      <td>5.6739</td>\n",
       "    </tr>\n",
       "  </tbody>\n",
       "</table>\n",
       "<p>366 rows × 3 columns</p>\n",
       "</div>"
      ],
      "text/plain": [
       "               EUR     USD     RON\n",
       "Date                              \n",
       "2022-05-02  1.1932  1.2557  5.9036\n",
       "2022-05-01  1.1918  1.2561  5.8968\n",
       "2022-04-30  1.1918  1.2561  5.8968\n",
       "2022-04-29  1.1918  1.2561  5.8968\n",
       "2022-04-28  1.1855  1.2430  5.8659\n",
       "...            ...     ...     ...\n",
       "2021-05-06  1.1533  1.3909  5.6816\n",
       "2021-05-05  1.1591  1.3915  5.7110\n",
       "2021-05-04  1.1525  1.3854  5.6788\n",
       "2021-05-03  1.1516  1.3870  5.6737\n",
       "2021-05-02  1.1512  1.3909  5.6739\n",
       "\n",
       "[366 rows x 3 columns]"
      ]
     },
     "execution_count": 41,
     "metadata": {},
     "output_type": "execute_result"
    }
   ],
   "source": [
    "rates_df"
   ]
  },
  {
   "cell_type": "markdown",
   "id": "7e2c44a4-69ab-4808-8fa5-4cfb63741b03",
   "metadata": {},
   "source": [
    "If we want to write the DataFrame to another sheet, we can do the below."
   ]
  },
  {
   "cell_type": "code",
   "execution_count": 46,
   "id": "fb4f585e-4fda-446d-839e-90b74e40bcdd",
   "metadata": {},
   "outputs": [],
   "source": [
    "rates_df[['EUR', 'USD', 'RON']] += 0.01"
   ]
  },
  {
   "cell_type": "code",
   "execution_count": 63,
   "id": "20c2e3a4-c2f8-4b21-8e9d-82a77405ff9f",
   "metadata": {},
   "outputs": [],
   "source": [
    "processed_book = xw.Book()\n",
    "\n",
    "processed_book.sheets[0].range(\"A1\").value = rates_df"
   ]
  },
  {
   "cell_type": "code",
   "execution_count": 66,
   "id": "ec85d707-de9b-41d8-8e73-0c3308eec95a",
   "metadata": {},
   "outputs": [],
   "source": [
    "processed_book.save()\n",
    "processed_book.close()\n",
    "xw.apps.active.kill()"
   ]
  },
  {
   "cell_type": "markdown",
   "id": "2958e670-b0a4-46f3-b606-5e872c5ade67",
   "metadata": {},
   "source": [
    "### Manipulating Excel with xlwings"
   ]
  },
  {
   "cell_type": "markdown",
   "id": "a54fa905-eeb6-4dac-9f0f-582a9b00fbba",
   "metadata": {},
   "source": [
    "#### Tables"
   ]
  },
  {
   "cell_type": "markdown",
   "id": "cdf0ecd0-3c11-49a4-bf67-520bd151b7fc",
   "metadata": {},
   "source": [
    "Say we wanted to create a table from some data sat in Excel. We could do the following: "
   ]
  },
  {
   "cell_type": "code",
   "execution_count": 75,
   "id": "3fc73afd-128d-41d8-ac4a-4a4c11ce54ca",
   "metadata": {
    "tags": []
   },
   "outputs": [
    {
     "data": {
      "text/plain": [
       "<Table 'Table1' in <Sheet [Book1]Sheet1>>"
      ]
     },
     "execution_count": 75,
     "metadata": {},
     "output_type": "execute_result"
    }
   ],
   "source": [
    "processed_book = xw.Book()\n",
    "\n",
    "processed_book.sheets[0].range(\"A1\").value = rates_df\n",
    "\n",
    "processed_book.sheets[0].tables.add(source=processed_book.sheets[0].range(\"A1\").expand())"
   ]
  },
  {
   "cell_type": "code",
   "execution_count": 76,
   "id": "b65cda5e-707a-4c16-8498-688a233cd845",
   "metadata": {
    "tags": []
   },
   "outputs": [],
   "source": [
    "processed_book.save(\"table.xlsx\")\n",
    "processed_book.close()\n",
    "#xw.apps.active.kill()"
   ]
  },
  {
   "cell_type": "markdown",
   "id": "16a9ad73-45f0-47d6-b36e-e051d1dfbe30",
   "metadata": {},
   "source": [
    "#### Charts"
   ]
  },
  {
   "cell_type": "code",
   "execution_count": 92,
   "id": "8cef2611-50a9-462f-a662-3584d20c530e",
   "metadata": {
    "tags": []
   },
   "outputs": [],
   "source": [
    "wb = xw.Book(fullname=\"table.xlsx\")\n",
    "\n",
    "# read in data\n",
    "df = wb.sheets[0].range(\"A1\").options(pd.DataFrame,\n",
    "                                 expand=\"table\").value\n",
    "\n",
    "wb.close()\n",
    "xw.apps.active.kill()"
   ]
  },
  {
   "cell_type": "code",
   "execution_count": 93,
   "id": "902fa2ff-93a0-4e4f-b834-b2ddd9f3a233",
   "metadata": {},
   "outputs": [],
   "source": [
    "new_wb = xw.Book()\n",
    "\n",
    "new_wb.sheets[0].range(\"A1\").value = df\n",
    "\n",
    "sheet = new_wb.sheets[0]\n",
    "\n",
    "chart = sheet.charts.add(left=200, top=10)\n",
    "\n",
    "chart.set_source_data(sheet.range('A1').expand())\n",
    "\n",
    "chart.chart_type = 'line'\n",
    "\n",
    "chart.name = \"Exchange Rates\""
   ]
  },
  {
   "cell_type": "code",
   "execution_count": 101,
   "id": "eac002bb-4b3d-4c8d-aa35-2dc9f399b10f",
   "metadata": {
    "collapsed": true,
    "jupyter": {
     "outputs_hidden": true
    },
    "tags": []
   },
   "outputs": [
    {
     "ename": "AttributeError",
     "evalue": "'NoneType' object has no attribute 'kill'",
     "output_type": "error",
     "traceback": [
      "\u001b[1;31m---------------------------------------------------------------------------\u001b[0m",
      "\u001b[1;31mAttributeError\u001b[0m                            Traceback (most recent call last)",
      "\u001b[1;32mC:\\Users\\THOMAS~1\\AppData\\Local\\Temp/ipykernel_15136/2036656923.py\u001b[0m in \u001b[0;36m<module>\u001b[1;34m\u001b[0m\n\u001b[0;32m      1\u001b[0m \u001b[0mnew_wb\u001b[0m\u001b[1;33m.\u001b[0m\u001b[0msave\u001b[0m\u001b[1;33m(\u001b[0m\u001b[1;34m\"chart.xlsx\"\u001b[0m\u001b[1;33m)\u001b[0m\u001b[1;33m\u001b[0m\u001b[1;33m\u001b[0m\u001b[0m\n\u001b[0;32m      2\u001b[0m \u001b[0mnew_wb\u001b[0m\u001b[1;33m.\u001b[0m\u001b[0mclose\u001b[0m\u001b[1;33m(\u001b[0m\u001b[1;33m)\u001b[0m\u001b[1;33m\u001b[0m\u001b[1;33m\u001b[0m\u001b[0m\n\u001b[1;32m----> 3\u001b[1;33m \u001b[0mxw\u001b[0m\u001b[1;33m.\u001b[0m\u001b[0mapps\u001b[0m\u001b[1;33m.\u001b[0m\u001b[0mactive\u001b[0m\u001b[1;33m.\u001b[0m\u001b[0mkill\u001b[0m\u001b[1;33m(\u001b[0m\u001b[1;33m)\u001b[0m\u001b[1;33m\u001b[0m\u001b[1;33m\u001b[0m\u001b[0m\n\u001b[0m",
      "\u001b[1;31mAttributeError\u001b[0m: 'NoneType' object has no attribute 'kill'"
     ]
    }
   ],
   "source": [
    "new_wb.save(\"chart.xlsx\")\n",
    "new_wb.close()\n",
    "xw.apps.active.kill()"
   ]
  },
  {
   "cell_type": "markdown",
   "id": "f7e52cb0-1902-4e54-ba47-cba60b1495f1",
   "metadata": {},
   "source": [
    "#### Cell Formulae"
   ]
  },
  {
   "cell_type": "markdown",
   "id": "b506a857-d7d7-401a-bace-140aef4c73fc",
   "metadata": {},
   "source": [
    "We can create cell formulae & read their results using xlwings."
   ]
  },
  {
   "cell_type": "code",
   "execution_count": 103,
   "id": "b9f27c77-d9d2-4982-8c06-799c447bdb64",
   "metadata": {},
   "outputs": [],
   "source": [
    "wb = xw.Book()\n",
    "\n",
    "sheet = wb.sheets[0]\n",
    "\n",
    "sheet.range(\"A1\").expand().value = [['Val 1', 'Val 2', 'Val 3'], [10.0, 20.0, 30.0]]"
   ]
  },
  {
   "cell_type": "code",
   "execution_count": 106,
   "id": "77292508-7706-4d4e-8c71-a14c2bc52cec",
   "metadata": {},
   "outputs": [],
   "source": [
    "sheet.range(\"D1\").value = \"Total\""
   ]
  },
  {
   "cell_type": "code",
   "execution_count": 108,
   "id": "29ce31ef-78a0-4163-9e0d-fd26ee7102a3",
   "metadata": {},
   "outputs": [],
   "source": [
    "sheet.range(\"D2\").value = \"=SUM(A2:C2)\""
   ]
  },
  {
   "cell_type": "code",
   "execution_count": 109,
   "id": "dbf4f048-97e6-4a82-9ff2-bfe429c4db3d",
   "metadata": {
    "collapsed": true,
    "jupyter": {
     "outputs_hidden": true
    },
    "tags": []
   },
   "outputs": [
    {
     "ename": "AttributeError",
     "evalue": "'NoneType' object has no attribute 'kill'",
     "output_type": "error",
     "traceback": [
      "\u001b[1;31m---------------------------------------------------------------------------\u001b[0m",
      "\u001b[1;31mAttributeError\u001b[0m                            Traceback (most recent call last)",
      "\u001b[1;32mC:\\Users\\THOMAS~1\\AppData\\Local\\Temp/ipykernel_15136/173828175.py\u001b[0m in \u001b[0;36m<module>\u001b[1;34m\u001b[0m\n\u001b[0;32m      1\u001b[0m \u001b[0mwb\u001b[0m\u001b[1;33m.\u001b[0m\u001b[0msave\u001b[0m\u001b[1;33m(\u001b[0m\u001b[1;34m\"formulae.xlsx\"\u001b[0m\u001b[1;33m)\u001b[0m\u001b[1;33m\u001b[0m\u001b[1;33m\u001b[0m\u001b[0m\n\u001b[0;32m      2\u001b[0m \u001b[0mwb\u001b[0m\u001b[1;33m.\u001b[0m\u001b[0mclose\u001b[0m\u001b[1;33m(\u001b[0m\u001b[1;33m)\u001b[0m\u001b[1;33m\u001b[0m\u001b[1;33m\u001b[0m\u001b[0m\n\u001b[1;32m----> 3\u001b[1;33m \u001b[0mxw\u001b[0m\u001b[1;33m.\u001b[0m\u001b[0mapps\u001b[0m\u001b[1;33m.\u001b[0m\u001b[0mactive\u001b[0m\u001b[1;33m.\u001b[0m\u001b[0mkill\u001b[0m\u001b[1;33m(\u001b[0m\u001b[1;33m)\u001b[0m\u001b[1;33m\u001b[0m\u001b[1;33m\u001b[0m\u001b[0m\n\u001b[0m",
      "\u001b[1;31mAttributeError\u001b[0m: 'NoneType' object has no attribute 'kill'"
     ]
    }
   ],
   "source": [
    "wb.save(\"formulae.xlsx\")\n",
    "wb.close()\n",
    "xw.apps.active.kill()"
   ]
  },
  {
   "cell_type": "markdown",
   "id": "f9ed597e-75e4-49f1-b48f-c812c9490fd4",
   "metadata": {},
   "source": [
    "### Scripting"
   ]
  },
  {
   "cell_type": "code",
   "execution_count": 116,
   "id": "aac17a7e-25e0-45ee-a288-e587a178f4be",
   "metadata": {},
   "outputs": [],
   "source": [
    "!python rate_process.py"
   ]
  },
  {
   "cell_type": "markdown",
   "id": "b073ec1c",
   "metadata": {},
   "source": [
    "##### further reading\n",
    "\n",
    "* https://blog.quantinsti.com/python-trading/\n",
    "\n",
    "* https://www.codementor.io/@ivyli/beginner-python-financial-project-see-behind-the-fx-rate-122874sico"
   ]
  }
 ],
 "metadata": {
  "kernelspec": {
   "display_name": "Python 3 (ipykernel)",
   "language": "python",
   "name": "python3"
  },
  "language_info": {
   "codemirror_mode": {
    "name": "ipython",
    "version": 3
   },
   "file_extension": ".py",
   "mimetype": "text/x-python",
   "name": "python",
   "nbconvert_exporter": "python",
   "pygments_lexer": "ipython3",
   "version": "3.9.7"
  },
  "toc-showtags": false
 },
 "nbformat": 4,
 "nbformat_minor": 5
}
